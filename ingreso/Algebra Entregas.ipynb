{
 "cells": [
  {
   "cell_type": "code",
   "execution_count": 9,
   "id": "9433ee6c",
   "metadata": {},
   "outputs": [],
   "source": [
    "# EJERCICIO 1\n",
    "import numpy as np\n",
    "\n",
    "# Vector de tamaño 3\n",
    "w = np.array([1, 0, 0])\n",
    "\n",
    "v1 = [-2,4,4]\n",
    "v2 = [-5,4,0]\n",
    "v3 = [0,-3,4]\n",
    "v4 = [8,-4,4]\n",
    "\n",
    "# Matriz que define la nueva base (cada columna es un vector de la nueva base)\n",
    "A = np.array([v1, v2, v3]).T  # Necesitamos la traspuesta para que los vectores sean columnas\n",
    "\n",
    "# Verificar si la base es válida (determinante no nulo)\n",
    "if np.linalg.det(A) == 0:\n",
    "    print(\"La matriz A no es invertible. No define una base.\")\n",
    "else:\n",
    "    # Calcular la inversa de A\n",
    "    A_inv = np.linalg.inv(A)\n",
    "\n",
    "    # Transformar el vector w a la nueva base\n",
    "    w_in_new_base = A_inv @ w"
   ]
  },
  {
   "cell_type": "code",
   "execution_count": 17,
   "id": "42bee0cf",
   "metadata": {},
   "outputs": [
    {
     "data": {
      "text/plain": [
       "True"
      ]
     },
     "execution_count": 17,
     "metadata": {},
     "output_type": "execute_result"
    }
   ],
   "source": [
    "np.linalg.det(np.array([v2, v3, v4]).T) > 0"
   ]
  },
  {
   "cell_type": "code",
   "execution_count": 18,
   "id": "bcf23072",
   "metadata": {},
   "outputs": [
    {
     "data": {
      "text/plain": [
       "array([ 0.14814815, -0.25925926, -0.14814815])"
      ]
     },
     "execution_count": 18,
     "metadata": {},
     "output_type": "execute_result"
    }
   ],
   "source": [
    "w_in_new_base"
   ]
  },
  {
   "cell_type": "code",
   "execution_count": 19,
   "id": "b84ab2eb",
   "metadata": {},
   "outputs": [],
   "source": [
    "# Ejercicio 2"
   ]
  },
  {
   "cell_type": "code",
   "execution_count": 20,
   "id": "fc85b270",
   "metadata": {},
   "outputs": [
    {
     "name": "stdout",
     "output_type": "stream",
     "text": [
      "La dimensión del subespacio generado es: 3\n"
     ]
    }
   ],
   "source": [
    "import numpy as np\n",
    "\n",
    "# Definir la matriz A\n",
    "A = np.array([\n",
    "    [0, -4, 2, 0],\n",
    "    [4, 4, 0, -4],\n",
    "    [-4, 2, 0, 3],\n",
    "    [8, -8, 2, -6]\n",
    "])\n",
    "\n",
    "# Calcular el rango de la matriz\n",
    "dim = np.linalg.matrix_rank(A)\n",
    "\n",
    "print(\"La dimensión del subespacio generado es:\", dim)"
   ]
  },
  {
   "cell_type": "code",
   "execution_count": 21,
   "id": "7796edca",
   "metadata": {},
   "outputs": [],
   "source": [
    "# Ejercicio 5"
   ]
  },
  {
   "cell_type": "code",
   "execution_count": 24,
   "id": "bd3113a2",
   "metadata": {},
   "outputs": [
    {
     "name": "stdout",
     "output_type": "stream",
     "text": [
      "Matriz de T1:\n",
      "[[10  6  9]\n",
      " [ 1  5  2]\n",
      " [-4 -1 -7]]\n",
      "\n",
      "Matriz de T2:\n",
      "[[ 2  0 -6]\n",
      " [-5  3  6]]\n",
      "\n",
      "Matriz compuesta T2 o T1:\n",
      "[[ 44  18  60]\n",
      " [-71 -21 -81]]\n"
     ]
    }
   ],
   "source": [
    "# (S = T1 o T2)\n",
    "\n",
    "# Matriz de T1\n",
    "T1 = np.array([\n",
    "    [10, 6, 9],\n",
    "    [1, 5, 2],\n",
    "    [-4, -1, -7]\n",
    "])\n",
    "\n",
    "# Matriz de T2\n",
    "T2 = np.array([\n",
    "    [2, 0, -6],\n",
    "    [-5, 3, 6]\n",
    "])\n",
    "\n",
    "# Matriz compuesta T2 o T1\n",
    "T2_T1 = T2 @ T1\n",
    "\n",
    "print(\"Matriz de T1:\")\n",
    "print(T1)\n",
    "\n",
    "print(\"\\nMatriz de T2:\")\n",
    "print(T2)\n",
    "\n",
    "print(\"\\nMatriz compuesta T2 o T1:\")\n",
    "print(T2_T1)\n"
   ]
  },
  {
   "cell_type": "code",
   "execution_count": 25,
   "id": "598018c1",
   "metadata": {},
   "outputs": [
    {
     "name": "stdout",
     "output_type": "stream",
     "text": [
      "Distancia entre vectores: 14.866068747318506\n",
      "Coseno del ángulo entre vectores: -0.37354368381881414\n"
     ]
    }
   ],
   "source": [
    "import numpy as np\n",
    "\n",
    "# Definimos los vectores\n",
    "v = np.array([7, -1, -5])\n",
    "w = np.array([-1, -7, 6])\n",
    "\n",
    "# Distancia entre vectores\n",
    "distancia = np.linalg.norm(v - w)\n",
    "\n",
    "# Producto punto\n",
    "producto_punto = np.dot(v, w)\n",
    "\n",
    "# Normas de los vectores\n",
    "norma_v = np.linalg.norm(v)\n",
    "norma_w = np.linalg.norm(w)\n",
    "\n",
    "# Coseno del ángulo\n",
    "coseno_angulo = producto_punto / (norma_v * norma_w)\n",
    "\n",
    "print(\"Distancia entre vectores:\", distancia)\n",
    "print(\"Coseno del ángulo entre vectores:\", coseno_angulo)\n"
   ]
  },
  {
   "cell_type": "code",
   "execution_count": 27,
   "id": "0ce51dbf",
   "metadata": {},
   "outputs": [],
   "source": [
    "v1 = [7,-4,-7]\n",
    "v2 = [-9,13,10]\n",
    "v3 = [1,0,1]\n",
    "v4 = [0,-2,7]\n"
   ]
  },
  {
   "cell_type": "code",
   "execution_count": 32,
   "id": "97ac29ec",
   "metadata": {},
   "outputs": [
    {
     "name": "stdout",
     "output_type": "stream",
     "text": [
      "R es ortogonal: True\n",
      "S es ortogonal: False\n",
      "T es ortogonal: False\n"
     ]
    }
   ],
   "source": [
    "import numpy as np\n",
    "\n",
    "# Definimos las matrices\n",
    "R = np.array([\n",
    "    [-0.5,  0.5,  0.5,  0.5],\n",
    "    [-0.5,  0.5, -0.5, -0.5],\n",
    "    [ 0.5,  0.5,  0.5, -0.5],\n",
    "    [ 0.5,  0.5, -0.5,  0.5]\n",
    "])\n",
    "\n",
    "S = np.array([\n",
    "    [-0.5, -0.5,  0.5,  0.5],\n",
    "    [-0.5,  0.5, -0.5,  0.5],\n",
    "    [ 0.5,  0.5, -0.5, -0.5],\n",
    "    [ 0.5, -0.5,  0.5, -0.5]\n",
    "])\n",
    "\n",
    "T = np.array([\n",
    "    [2, 0, 0, 0],\n",
    "    [0, 2, 0, 0],\n",
    "    [0, 0, 2, 0],\n",
    "    [0, 0, 0, 2]\n",
    "])\n",
    "\n",
    "# Verificamos ortogonalidad\n",
    "R_ortogonal = np.allclose(R.T @ R, np.eye(4))\n",
    "S_ortogonal = np.allclose(S.T @ S, np.eye(4))\n",
    "T_ortogonal = np.allclose(T.T @ T, np.eye(4))\n",
    "\n",
    "print(\"R es ortogonal:\", R_ortogonal)\n",
    "print(\"S es ortogonal:\", S_ortogonal)\n",
    "print(\"T es ortogonal:\", T_ortogonal)\n"
   ]
  },
  {
   "cell_type": "code",
   "execution_count": null,
   "id": "4b8043e1",
   "metadata": {},
   "outputs": [],
   "source": []
  },
  {
   "cell_type": "code",
   "execution_count": 33,
   "id": "54ec959f",
   "metadata": {},
   "outputs": [],
   "source": [
    "# EJERCICIO 9"
   ]
  },
  {
   "cell_type": "code",
   "execution_count": 49,
   "id": "bff468ce",
   "metadata": {},
   "outputs": [],
   "source": [
    "w = np.array([2, 5, -2])\n",
    "\n",
    "v1 = [0.6, -0.64, 0.48]\n",
    "v2 = [0.0, 0.6, 0.8]\n",
    "v3 = [-0.8,-0.48, 0.36]\n",
    "\n",
    "# Matriz que define la nueva base (cada columna es un vector de la nueva base)\n",
    "B = np.array([v1, v2, v3]).T  # Necesitamos la traspuesta para que los vectores sean columnas\n"
   ]
  },
  {
   "cell_type": "code",
   "execution_count": 50,
   "id": "bcaf49b3",
   "metadata": {},
   "outputs": [
    {
     "name": "stdout",
     "output_type": "stream",
     "text": [
      "Normas de las columnas: [1. 1. 1.]\n",
      "¿Es ortonormal?: True\n"
     ]
    }
   ],
   "source": [
    "# Verificamos la norma de cada columna\n",
    "normas = np.linalg.norm(B, axis=0)  # Normas columna por columna\n",
    "es_unitario = np.allclose(normas, 1)  # Todas las normas son ~1\n",
    "\n",
    "# Verificamos la ortogonalidad\n",
    "producto_interno = B.T @ B  # Producto interno de las columnas\n",
    "identidad = np.eye(3)  # Matriz identidad de tamaño 3\n",
    "es_ortonormal = np.allclose(producto_interno, identidad)\n",
    "\n",
    "# Resultados\n",
    "print(\"Normas de las columnas:\", normas)\n",
    "print(\"¿Es ortonormal?:\", es_ortonormal)"
   ]
  },
  {
   "cell_type": "code",
   "execution_count": 51,
   "id": "a5964f23",
   "metadata": {},
   "outputs": [
    {
     "name": "stdout",
     "output_type": "stream",
     "text": [
      "Coordenadas de w en la nueva base: [-2.96  1.4  -4.72]\n"
     ]
    }
   ],
   "source": [
    "# Vector en la base canónica\n",
    "w = np.array([2, 5, -2])\n",
    "\n",
    "# Coordenadas en la nueva base\n",
    "w_prime = B.T @ w  # Usamos la transpuesta de B para calcular las coordenadas\n",
    "print(\"Coordenadas de w en la nueva base:\", w_prime)"
   ]
  },
  {
   "cell_type": "markdown",
   "id": "eacf821a",
   "metadata": {},
   "source": [
    "# Entrega 3"
   ]
  },
  {
   "cell_type": "code",
   "execution_count": 53,
   "id": "630611dc",
   "metadata": {},
   "outputs": [
    {
     "name": "stdout",
     "output_type": "stream",
     "text": [
      "a0 = 8.189529917341892\n",
      "a1 = 4.807541219736571\n",
      "a2 = -0.04736029821612848\n"
     ]
    }
   ],
   "source": [
    "import numpy as np\n",
    "\n",
    "# Datos\n",
    "x = np.array([-11, -7, -3, 3, 9, 12])\n",
    "y = np.array([-49, -30, -8, 27, 43, 61])\n",
    "\n",
    "# Ajuste de una función cuadrática (grado 2)\n",
    "coefficients = np.polyfit(x, y, 2)  # Devuelve [a2, a1, a0]\n",
    "\n",
    "# Separar los coeficientes\n",
    "a2, a1, a0 = coefficients\n",
    "\n",
    "# Imprimir resultados\n",
    "print(f\"a0 = {a0}\")\n",
    "print(f\"a1 = {a1}\")\n",
    "print(f\"a2 = {a2}\")"
   ]
  },
  {
   "cell_type": "code",
   "execution_count": 58,
   "id": "5d5430a4",
   "metadata": {},
   "outputs": [
    {
     "name": "stdout",
     "output_type": "stream",
     "text": [
      "Ángulo en radianes: 0.8949686928962144\n",
      "Ángulo en grados: 51.27792889929299\n"
     ]
    }
   ],
   "source": [
    "import numpy as np\n",
    "\n",
    "# Vectores en R4\n",
    "u = np.array([2, -1, 3, -3])  # Reemplaza con los valores del vector u\n",
    "v = np.array([4,-4,4,1])  # Reemplaza con los valores del vector v\n",
    "\n",
    "# Producto escalar\n",
    "dot_product = np.dot(u, v)\n",
    "\n",
    "# Normas de los vectores\n",
    "norm_u = np.linalg.norm(u)\n",
    "norm_v = np.linalg.norm(v)\n",
    "\n",
    "# Cálculo del ángulo en radianes\n",
    "cos_theta = dot_product / (norm_u * norm_v)\n",
    "\n",
    "# Asegurar que cos_theta esté en el rango [-1, 1] por posibles errores numéricos\n",
    "cos_theta = np.clip(cos_theta, -1, 1)\n",
    "\n",
    "# Ángulo en radianes\n",
    "theta = np.arccos(cos_theta)\n",
    "\n",
    "# Convertir a grados si es necesario\n",
    "theta_degrees = np.degrees(theta)\n",
    "\n",
    "print(f\"Ángulo en radianes: {theta}\")\n",
    "print(f\"Ángulo en grados: {theta_degrees}\")\n"
   ]
  },
  {
   "cell_type": "code",
   "execution_count": 60,
   "id": "48c8ce5e",
   "metadata": {},
   "outputs": [
    {
     "name": "stdout",
     "output_type": "stream",
     "text": [
      "El valor de r_1 es: -0.9816060016671306\n"
     ]
    }
   ],
   "source": [
    "import numpy as np\n",
    "\n",
    "# Definir los vectores del subespacio\n",
    "u = np.array([2,-1,3,-3])  # Reemplaza con los valores de u\n",
    "v = np.array([4, -4, 4, 1])  # Reemplaza con los valores de v\n",
    "w = np.array([5,-1 , -2, -1])  # Reemplaza con los valores de w\n",
    "\n",
    "# Definir el punto P\n",
    "P = np.array([-2, 0, -4, -2])  # Reemplaza con los valores de P\n",
    "\n",
    "# Crear la matriz de vectores base del subespacio\n",
    "A = np.column_stack((u, v, w))  # Matriz cuyas columnas son u, v y w\n",
    "\n",
    "# Resolver el sistema de proyección\n",
    "# Resuelve el sistema A.T @ A @ c = A.T @ P para obtener los coeficientes c\n",
    "c = np.linalg.lstsq(A, P, rcond=None)[0]  # Coeficientes de la combinación lineal\n",
    "\n",
    "# Reconstruir el punto proyectado R\n",
    "R = A @ c  # Punto en el subespacio más cercano a P\n",
    "\n",
    "# Extraer el valor de r_1\n",
    "r_1 = R[0]\n",
    "\n",
    "print(f\"El valor de r_1 es: {r_1}\")\n"
   ]
  },
  {
   "cell_type": "code",
   "execution_count": 63,
   "id": "33d18cd6",
   "metadata": {},
   "outputs": [
    {
     "name": "stdout",
     "output_type": "stream",
     "text": [
      "El vector a NO pertenece a S^⊥.\n",
      "El vector b pertenece a S^⊥.\n",
      "El vector c NO pertenece a S^⊥.\n",
      "El vector d NO pertenece a S^⊥.\n"
     ]
    }
   ],
   "source": [
    "import numpy as np\n",
    "\n",
    "# Vectores candidatos\n",
    "vectors = [\n",
    "    np.array([1, -2, 1, 1]),  # Opción a\n",
    "    np.array([1, 1, 2, -1]),  # Opción b\n",
    "    np.array([1, 0, 0, 1]),   # Opción c\n",
    "    np.array([0, -2, 1, 0])   # Opción d\n",
    "]\n",
    "\n",
    "# Base de S\n",
    "# Restricciones: x2 + 2x3 = 0 -> x2 = -2x3, y x1 = x4 -> x1 = t\n",
    "basis_S = [\n",
    "    np.array([1, 0, 0, 1]),   # De x1 = x4 y x2 = x3 = 0\n",
    "    np.array([0, -2, 1, 0])   # De x2 = -2x3\n",
    "]\n",
    "\n",
    "# Verificar ortogonalidad\n",
    "for i, v in enumerate(vectors):\n",
    "    is_orthogonal = all(np.dot(v, b) == 0 for b in basis_S)\n",
    "    print(f\"El vector {chr(97 + i)} {'pertenece' if is_orthogonal else 'NO pertenece'} a S^⊥.\")\n"
   ]
  },
  {
   "cell_type": "code",
   "execution_count": 64,
   "id": "a4adc631",
   "metadata": {},
   "outputs": [
    {
     "name": "stdout",
     "output_type": "stream",
     "text": [
      "x_3 = -1.0\n"
     ]
    }
   ],
   "source": [
    "import numpy as np\n",
    "\n",
    "# Definir el punto A\n",
    "A = np.array([2, 5, 5, 2])\n",
    "\n",
    "# Base del subespacio S\n",
    "# Restricciones: x2 + 2x3 = 0 y x1 - x4 = 0\n",
    "# Representación paramétrica:\n",
    "# x = t1 * [1, 0, 0, 1] + t2 * [0, -2, 1, 0]\n",
    "basis = np.array([\n",
    "    [1, 0, 0, 1],  # Primer vector base\n",
    "    [0, -2, 1, 0]  # Segundo vector base\n",
    "])\n",
    "\n",
    "# Proyección ortogonal de A sobre el subespacio generado por basis\n",
    "# P = A @ basis @ (basis^T @ basis)^-1 @ basis^T\n",
    "B = basis.T\n",
    "projection = B @ np.linalg.inv(B.T @ B) @ B.T @ A\n",
    "\n",
    "# Extraer x_3\n",
    "x_3 = projection[2]\n",
    "print(f\"x_3 = {x_3}\")\n"
   ]
  },
  {
   "cell_type": "code",
   "execution_count": 65,
   "id": "8e097fc4",
   "metadata": {},
   "outputs": [
    {
     "name": "stdout",
     "output_type": "stream",
     "text": [
      "k = 45.00000000000001\n"
     ]
    }
   ],
   "source": [
    "import numpy as np\n",
    "\n",
    "# Definir el punto A\n",
    "A = np.array([2, 5, 5, 2])\n",
    "\n",
    "# Base del subespacio S\n",
    "# x1 = x4, x2 = -2x3\n",
    "basis = np.array([\n",
    "    [1, 0, 0, 1],  # Primer vector base (x1 = x4)\n",
    "    [0, -2, 1, 0]  # Segundo vector base (x2 = -2x3)\n",
    "])\n",
    "\n",
    "# Proyección ortogonal de A sobre el subespacio generado por basis\n",
    "B = basis.T\n",
    "projection = B @ np.linalg.inv(B.T @ B) @ B.T @ A\n",
    "\n",
    "# Calcular la distancia entre A y la proyección (punto más cercano)\n",
    "distance_vector = A - projection\n",
    "distance = np.linalg.norm(distance_vector)\n",
    "\n",
    "# La distancia es la raíz cuadrada de k, por lo tanto, k es el cuadrado de la distancia\n",
    "k = distance**2\n",
    "print(f\"k = {k}\")\n"
   ]
  },
  {
   "cell_type": "code",
   "execution_count": 66,
   "id": "e2f19e7f",
   "metadata": {},
   "outputs": [
    {
     "name": "stdout",
     "output_type": "stream",
     "text": [
      "v is an eigenvector of A with eigenvalue 2.0\n"
     ]
    }
   ],
   "source": [
    "import numpy as np\n",
    "\n",
    "# Example matrix A and vector v\n",
    "A = np.array([[1, 3, 0], \n",
    "              [0, 5, -3],\n",
    "              [0, -9, 11]])\n",
    "v = np.array([3, 1, 1])\n",
    "\n",
    "# Check if v is an eigenvector of A\n",
    "Av = np.dot(A, v)  # A * v\n",
    "lambda_v = Av / v  # Compute the ratio\n",
    "\n",
    "# Check if the ratio is consistent\n",
    "if np.allclose(lambda_v, lambda_v[0]):\n",
    "    print(f\"v is an eigenvector of A with eigenvalue {lambda_v[0]}\")\n",
    "else:\n",
    "    print(\"v is not an eigenvector of A\")"
   ]
  },
  {
   "cell_type": "code",
   "execution_count": null,
   "id": "3cb4e204",
   "metadata": {},
   "outputs": [],
   "source": []
  },
  {
   "cell_type": "code",
   "execution_count": 67,
   "id": "dcdbda0b",
   "metadata": {},
   "outputs": [
    {
     "name": "stdout",
     "output_type": "stream",
     "text": [
      "The matrix is diagonalizable.\n"
     ]
    }
   ],
   "source": [
    "A = np.array([[-90, 90, -126], \n",
    "              [90, -171, -36],\n",
    "              [-126, -36, -63]])\n",
    "# Compute eigenvalues and eigenvectors\n",
    "eigenvalues, eigenvectors = np.linalg.eig(A)\n",
    "\n",
    "# Check if the number of linearly independent eigenvectors equals the size of the matrix\n",
    "if np.linalg.matrix_rank(eigenvectors) == A.shape[0]:\n",
    "    print(\"The matrix is diagonalizable.\")\n",
    "else:\n",
    "    print(\"The matrix is not diagonalizable.\")"
   ]
  },
  {
   "cell_type": "code",
   "execution_count": 70,
   "id": "0738c218",
   "metadata": {},
   "outputs": [
    {
     "name": "stdout",
     "output_type": "stream",
     "text": [
      "The columns of B are not linearly independent.\n"
     ]
    }
   ],
   "source": [
    "B = np.array([[-0.5774, 0, 0.8165], \n",
    "              [-0.5774, -0.7071, -0.4082],\n",
    "              [-0.5774, -0.7071, -0.4082]])\n",
    "# Step 2: Check if columns of B are linearly independent\n",
    "if np.linalg.matrix_rank(B) == B.shape[1]:\n",
    "    print(\"The columns of B are linearly independent.\")\n",
    "\n",
    "    # Step 3: Check if B is a matrix of eigenvectors of A\n",
    "    # A * B should be equal to B * D where D is a diagonal matrix of eigenvalues\n",
    "    D = np.diag(eigenvalues)\n",
    "    if np.allclose(np.dot(A, B), np.dot(B, D)):\n",
    "        print(\"B is a basis of eigenvectors of A.\")\n",
    "    else:\n",
    "        print(\"B is not a basis of eigenvectors of A.\")\n",
    "else:\n",
    "    print(\"The columns of B are not linearly independent.\")"
   ]
  },
  {
   "cell_type": "code",
   "execution_count": null,
   "id": "c14bd679",
   "metadata": {},
   "outputs": [],
   "source": []
  },
  {
   "cell_type": "code",
   "execution_count": null,
   "id": "145e79e7",
   "metadata": {},
   "outputs": [],
   "source": []
  },
  {
   "cell_type": "code",
   "execution_count": null,
   "id": "4f5630c0",
   "metadata": {},
   "outputs": [],
   "source": []
  },
  {
   "cell_type": "code",
   "execution_count": null,
   "id": "4588a026",
   "metadata": {},
   "outputs": [],
   "source": []
  },
  {
   "cell_type": "code",
   "execution_count": 74,
   "id": "7dfb4c67",
   "metadata": {},
   "outputs": [
    {
     "name": "stdout",
     "output_type": "stream",
     "text": [
      "The matrix is diagonalizable.\n"
     ]
    }
   ],
   "source": [
    "# EJ 12\n",
    "\n",
    "A = np.array([[4, 2, 2], \n",
    "              [2, 4, 2],\n",
    "              [2, 2, 4]])\n",
    "# Compute eigenvalues and eigenvectors\n",
    "eigenvalues, eigenvectors = np.linalg.eig(A)\n",
    "\n",
    "# Check if the number of linearly independent eigenvectors equals the size of the matrix\n",
    "if np.linalg.matrix_rank(eigenvectors) == A.shape[0]:\n",
    "    print(\"The matrix is diagonalizable.\")\n",
    "else:\n",
    "    print(\"The matrix is not diagonalizable.\")"
   ]
  },
  {
   "cell_type": "code",
   "execution_count": 87,
   "id": "9d04a4b7",
   "metadata": {},
   "outputs": [],
   "source": [
    "B = np.array([[8, 0, 0], \n",
    "              [0, 2, 0],\n",
    "              [0, 0, 2]])\n",
    "\n",
    "eigenvalues_b, eigenvectors_b = np.linalg.eig(B)\n"
   ]
  },
  {
   "cell_type": "code",
   "execution_count": 88,
   "id": "d411fac8",
   "metadata": {},
   "outputs": [
    {
     "data": {
      "text/plain": [
       "array([2., 8., 2.])"
      ]
     },
     "execution_count": 88,
     "metadata": {},
     "output_type": "execute_result"
    }
   ],
   "source": [
    "eigenvalues"
   ]
  },
  {
   "cell_type": "code",
   "execution_count": 89,
   "id": "2a75be2e",
   "metadata": {},
   "outputs": [
    {
     "data": {
      "text/plain": [
       "array([8., 2., 2.])"
      ]
     },
     "execution_count": 89,
     "metadata": {},
     "output_type": "execute_result"
    }
   ],
   "source": [
    "eigenvalues_b"
   ]
  },
  {
   "cell_type": "code",
   "execution_count": null,
   "id": "6c6aeae7",
   "metadata": {},
   "outputs": [],
   "source": []
  },
  {
   "cell_type": "code",
   "execution_count": 90,
   "id": "284ed202",
   "metadata": {},
   "outputs": [
    {
     "name": "stdout",
     "output_type": "stream",
     "text": [
      "Rango de A: 3\n",
      "A * C == C * D? True\n",
      "Autovalores de D (y A): [-4.  3. -1.]\n",
      "Dimensión del autoespacio asociado al autovalor 3: 1\n",
      "Determinante de A: 12.0\n",
      "¿Tenemos suficiente información para saber los autovalores de A? True\n",
      "¿λ = -4 es autovalor de A? True\n",
      "¿(1,0,0) es un autovector correspondiente a λ = -4? Sí, es un autovector\n"
     ]
    }
   ],
   "source": [
    "import numpy as np\n",
    "\n",
    "# Definir la matriz diagonal D\n",
    "D = np.array([[-4, 0, 0],\n",
    "              [0, 3, 0],\n",
    "              [0, 0, -1]])\n",
    "\n",
    "# Matriz C: por ahora asumimos que C es una matriz invertible aleatoria, ya que no se nos da explícita\n",
    "C = np.array([[1, 0, 0], \n",
    "              [0, 1, 0], \n",
    "              [0, 0, 1]])  # Aquí podemos cambiar C por cualquier otra matriz invertible\n",
    "\n",
    "# Calculamos la matriz A usando A = C^-1 * D * C\n",
    "A = np.linalg.inv(C) @ D @ C\n",
    "\n",
    "# 1. Verificar el rango de A\n",
    "rango_A = np.linalg.matrix_rank(A)\n",
    "print(f\"Rango de A: {rango_A}\")  # A debería tener rango 3 si es invertible\n",
    "\n",
    "# 2. Verificar si A * C = C * D (esto no es cierto, como discutimos)\n",
    "A_C = A @ C\n",
    "C_D = C @ D\n",
    "print(f\"A * C == C * D? {np.allclose(A_C, C_D)}\")\n",
    "\n",
    "# 3. Verificar la dimensión del autoespacio para el autovalor 3\n",
    "# Los autovalores de D son los mismos que los de A\n",
    "autovalores, _ = np.linalg.eig(D)\n",
    "print(f\"Autovalores de D (y A): {autovalores}\")\n",
    "# Verificamos que el autovalor 3 tiene multiplicidad algebraica 1, por lo que su autoespacio tiene dimensión 1\n",
    "dimension_autoespacio_3 = np.sum(np.isclose(autovalores, 3))\n",
    "print(f\"Dimensión del autoespacio asociado al autovalor 3: {dimension_autoespacio_3}\")\n",
    "\n",
    "# 4. Verificar si el determinante de A es distinto de cero\n",
    "determinante_A = np.linalg.det(A)\n",
    "print(f\"Determinante de A: {determinante_A}\")  # Debería ser distinto de cero\n",
    "\n",
    "# 5. Verificar si tenemos información suficiente sobre los autovalores de A\n",
    "# Como A es similar a D, sus autovalores son los mismos\n",
    "informacion_suficiente = len(autovalores) > 0\n",
    "print(f\"¿Tenemos suficiente información para saber los autovalores de A? {informacion_suficiente}\")\n",
    "\n",
    "# 6. Verificar si λ = -4 es autovalor de A y si (1, 0, 0) es un autovector correspondiente\n",
    "# Sabemos que los autovalores de A son los mismos que los de D, y -4 es uno de ellos.\n",
    "# También sabemos que (1, 0, 0) es un autovector correspondiente al autovalor -4 para D.\n",
    "\n",
    "autovalor_minus_4 = np.isclose(autovalores, -4)\n",
    "print(f\"¿λ = -4 es autovalor de A? {np.any(autovalor_minus_4)}\")\n",
    "print(f\"¿(1,0,0) es un autovector correspondiente a λ = -4? {'Sí, es un autovector' if np.any(autovalor_minus_4) else 'No'}\")\n"
   ]
  }
 ],
 "metadata": {
  "kernelspec": {
   "display_name": "Python 3 (ipykernel)",
   "language": "python",
   "name": "python3"
  },
  "language_info": {
   "codemirror_mode": {
    "name": "ipython",
    "version": 3
   },
   "file_extension": ".py",
   "mimetype": "text/x-python",
   "name": "python",
   "nbconvert_exporter": "python",
   "pygments_lexer": "ipython3",
   "version": "3.8.10"
  }
 },
 "nbformat": 4,
 "nbformat_minor": 5
}
